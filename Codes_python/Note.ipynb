{
 "cells": [
  {
   "cell_type": "code",
   "execution_count": null,
   "metadata": {},
   "outputs": [],
   "source": []
  },
  {
   "cell_type": "markdown",
   "metadata": {},
   "source": [
    "duree_offre est entre 3 ou 2 ils ont baissé leur offre\n",
    "nb_migrations est entre 0 et 1\n",
    "nb_reengagements est égal à 0 le plus souvent\n",
    "vol_appels_m1 et vol_appels_m2 et vol_appels_m3 est inférieur à 20000\n"
   ]
  },
  {
   "cell_type": "markdown",
   "metadata": {},
   "source": []
  },
  {
   "cell_type": "markdown",
   "metadata": {},
   "source": []
  }
 ],
 "metadata": {
  "language_info": {
   "name": "python"
  }
 },
 "nbformat": 4,
 "nbformat_minor": 2
}
